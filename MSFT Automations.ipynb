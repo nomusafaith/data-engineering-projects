{
 "cells": [
  {
   "cell_type": "code",
   "execution_count": 0,
   "metadata": {
    "application/vnd.databricks.v1+cell": {
     "cellMetadata": {
      "byteLimit": 2048000,
      "rowLimit": 10000
     },
     "inputWidgets": {},
     "nuid": "0d125f3f-fbd0-4cbf-bd82-b38ed356f755",
     "showTitle": false,
     "tableResultSettingsMap": {},
     "title": ""
    }
   },
   "outputs": [],
   "source": [
    "# --- Widgets for Job Parameters ---\n",
    "dbutils.widgets.text(\"symbols\", \"IBM,AAPL,TSCO.LON\", \"Comma-separated Stock Symbols\")\n",
    "dbutils.widgets.text(\"apikey\", \"\", \"Alpha Vantage API Key\")\n",
    "\n",
    "# Read parameters\n",
    "symbols = dbutils.widgets.get(\"symbols\").split(\",\")\n",
    "apikey = dbutils.widgets.get(\"apikey\")\n"
   ]
  },
  {
   "cell_type": "code",
   "execution_count": 0,
   "metadata": {
    "application/vnd.databricks.v1+cell": {
     "cellMetadata": {
      "byteLimit": 2048000,
      "rowLimit": 10000
     },
     "inputWidgets": {},
     "nuid": "b72dfabf-c5df-42c0-9bd7-e7c9da85dbd3",
     "showTitle": false,
     "tableResultSettingsMap": {},
     "title": ""
    }
   },
   "outputs": [],
   "source": [
    "import pandas as pd\n",
    "import requests\n",
    "from io import StringIO\n",
    "from statsmodels.tsa.holtwinters import ExponentialSmoothing\n",
    "import plotly.graph_objects as go"
   ]
  },
  {
   "cell_type": "code",
   "execution_count": 0,
   "metadata": {
    "application/vnd.databricks.v1+cell": {
     "cellMetadata": {
      "byteLimit": 2048000,
      "rowLimit": 10000
     },
     "inputWidgets": {},
     "nuid": "9d7d12dd-0418-48fd-9c4a-fde1d51d8297",
     "showTitle": false,
     "tableResultSettingsMap": {},
     "title": ""
    }
   },
   "outputs": [],
   "source": [
    "import pandas as pd\n",
    "import requests\n",
    "from io import StringIO\n",
    "from statsmodels.tsa.holtwinters import ExponentialSmoothing\n",
    "import plotly.graph_objects as go\n",
    "import time\n",
    "\n",
    "def run_stock_pipeline(symbol, apikey):\n",
    "    symbol = symbol.strip()\n",
    "    print(f\"Processing {symbol}...\")\n",
    "\n",
    "    url = (\n",
    "        f\"https://www.alphavantage.co/query?function=TIME_SERIES_MONTHLY\"\n",
    "        f\"&symbol={symbol}&apikey={apikey}&datatype=csv\"\n",
    "    )\n",
    "    r = requests.get(url)\n",
    "    data = pd.read_csv(StringIO(r.text))\n",
    "    \n",
    "    # Check if 'timestamp' column exists\n",
    "    if 'timestamp' not in data.columns:\n",
    "        print(f\"Data for {symbol} is missing or malformed. Skipping.\")\n",
    "        return\n",
    "\n",
    "    data = data.rename(columns={'timestamp': 'date'})\n",
    "    data['date'] = pd.to_datetime(data['date'])\n",
    "    numeric_cols = ['open', 'high', 'low', 'close', 'volume']\n",
    "    data[numeric_cols] = data[numeric_cols].apply(pd.to_numeric, errors='coerce')\n",
    "    data = data.sort_values('date')\n",
    "\n",
    "    spark_df = spark.createDataFrame(data)\n",
    "    path = f\"/tmp/stock_data/{symbol}_monthly\"\n",
    "    spark_df.write.format(\"delta\").mode(\"append\").save(path)\n",
    "\n",
    "    ts = data.set_index('date')['close']\n",
    "    model = ExponentialSmoothing(ts, trend='add', seasonal=None)\n",
    "    fit = model.fit()\n",
    "    forecast_12m = fit.forecast(12)\n",
    "    forecast_dates = pd.date_range(\n",
    "        data['date'].max() + pd.offsets.MonthEnd(1),\n",
    "        periods=12,\n",
    "        freq='M'\n",
    "    )\n",
    "\n",
    "    fig = go.Figure()\n",
    "    fig.add_trace(go.Scatter(\n",
    "        x=data['date'], y=data['close'],\n",
    "        mode='lines+markers', name='Historical Close',\n",
    "        line=dict(color='blue')\n",
    "    ))\n",
    "    fig.add_trace(go.Scatter(\n",
    "        x=forecast_dates, y=forecast_12m,\n",
    "        mode='lines+markers', name='12-Month Forecast',\n",
    "        line=dict(color='red', dash='dash')\n",
    "    ))\n",
    "    fig.update_layout(\n",
    "        title=f\"{symbol} Historical Close + 12-Month Forecast\",\n",
    "        xaxis_title=\"Date\", yaxis_title=\"Close Price\", hovermode=\"x unified\"\n",
    "    )\n",
    "    fig.show()\n",
    "\n",
    "    time.sleep(12)"
   ]
  },
  {
   "cell_type": "code",
   "execution_count": 0,
   "metadata": {
    "application/vnd.databricks.v1+cell": {
     "cellMetadata": {
      "byteLimit": 2048000,
      "rowLimit": 10000
     },
     "inputWidgets": {},
     "nuid": "97d18805-b97c-4be3-9b05-460b1b26d145",
     "showTitle": false,
     "tableResultSettingsMap": {},
     "title": ""
    }
   },
   "outputs": [],
   "source": [
    "symbol = \"MSFT\"\n",
    "apikey = \"3VABX86SUL1NE9NX\"\n",
    "datatype = \"csv\"\n",
    "url = f\"https://www.alphavantage.co/query?function=TIME_SERIES_MONTHLY&symbol={symbol}&apikey={apikey}&datatype={datatype}\"\n",
    "r = requests.get(url)\n",
    "data = pd.read_csv(StringIO(r.text))\n"
   ]
  }
 ],
 "metadata": {
  "application/vnd.databricks.v1+notebook": {
   "computePreferences": null,
   "dashboards": [],
   "environmentMetadata": {
    "base_environment": "",
    "environment_version": "4"
   },
   "inputWidgetPreferences": null,
   "language": "python",
   "notebookMetadata": {
    "pythonIndentUnit": 4
   },
   "notebookName": "MSFT Automations",
   "widgets": {
    "apikey": {
     "currentValue": "",
     "nuid": "688276aa-3731-4811-bf56-0891a40dabd7",
     "typedWidgetInfo": {
      "autoCreated": false,
      "defaultValue": "",
      "label": "Alpha Vantage API Key",
      "name": "apikey",
      "options": {
       "widgetDisplayType": "Text",
       "validationRegex": null
      },
      "parameterDataType": "String"
     },
     "widgetInfo": {
      "widgetType": "text",
      "defaultValue": "",
      "label": "Alpha Vantage API Key",
      "name": "apikey",
      "options": {
       "widgetType": "text",
       "autoCreated": null,
       "validationRegex": null
      }
     }
    },
    "symbol": {
     "currentValue": "MSFT",
     "nuid": "cb5a626f-8355-4a61-ab96-ef50fe0706aa",
     "typedWidgetInfo": {
      "autoCreated": false,
      "defaultValue": "MSFT",
      "label": "Stock Symbol",
      "name": "symbol",
      "options": {
       "widgetDisplayType": "Text",
       "validationRegex": null
      },
      "parameterDataType": "String"
     },
     "widgetInfo": {
      "widgetType": "text",
      "defaultValue": "MSFT",
      "label": "Stock Symbol",
      "name": "symbol",
      "options": {
       "widgetType": "text",
       "autoCreated": false,
       "validationRegex": null
      }
     }
    },
    "symbols": {
     "currentValue": "IBM,AAPL,TSCO.LON",
     "nuid": "2abae9c1-e817-47c9-b1d8-672e75ac723e",
     "typedWidgetInfo": {
      "autoCreated": false,
      "defaultValue": "IBM,AAPL,TSCO.LON",
      "label": "Comma-separated Stock Symbols",
      "name": "symbols",
      "options": {
       "widgetDisplayType": "Text",
       "validationRegex": null
      },
      "parameterDataType": "String"
     },
     "widgetInfo": {
      "widgetType": "text",
      "defaultValue": "IBM,AAPL,TSCO.LON",
      "label": "Comma-separated Stock Symbols",
      "name": "symbols",
      "options": {
       "widgetType": "text",
       "autoCreated": false,
       "validationRegex": null
      }
     }
    }
   }
  },
  "language_info": {
   "name": "python"
  }
 },
 "nbformat": 4,
 "nbformat_minor": 0
}